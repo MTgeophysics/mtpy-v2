{
 "cells": [
  {
   "cell_type": "markdown",
   "id": "47b06d50-907f-4498-9b95-4a53458df4ce",
   "metadata": {},
   "source": [
    "# Rotations\n",
    "\n",
    "**Convention: A positive rotation, about the z-axis, in a Right Handed Coordinate frame is defined as a rotation where the x-axis moves towards the y-axis**\n",
    "\n",
    "Corrolarys\n",
    "\n",
    "1. A positive rotation, is CCW when you are looking from the +ve zed axis, down onto the Z=0 plane.\n",
    "\n",
    "2. A positive rotation, is CW when you are looking from the -ve zed axis, up onto the Z=0 plane.\n",
    "\n",
    "3. A positive rotation, causes the X-axis to rotate towards the Y-axis\n",
    "\n",
    "**Convention: X: North; Y: East, Z: Down a.k.a. NED**\n",
    "This is in contrast to the ENU frame.\n",
    "\n",
    "\n",
    "Things that invert polarity that one needs to watch out for:\n",
    "\n",
    "A.  Coordinate Frame: If you switch between NED and ENU, the effect of the same rotation matrix on a vector, will push it in the opposite direction, when you look at the vector in the cardinal frame.\n",
    "\n",
    "B. The sign of the rotation angle (+ve, vs -ve angle). \n",
    "\n",
    "C. Choice of similarity transform definition $R Z R^T$ vs $R^T Z R$ \n",
    "\n",
    "- We use $R Z R^T$ whic is appropriate for the MT Equation formulation $E = ZH$\n",
    "\n",
    "D. Definition of Rotation Matrix"
   ]
  },
  {
   "cell_type": "code",
   "execution_count": 1,
   "id": "cb135a3e-ba7d-4855-8d90-49808bd81b5d",
   "metadata": {},
   "outputs": [],
   "source": [
    "import numpy as np\n",
    "# from scipy.spatial.transform import Rotation"
   ]
  },
  {
   "cell_type": "code",
   "execution_count": 2,
   "id": "221f79bc-cad8-4ce2-8c07-9124f3e210f9",
   "metadata": {},
   "outputs": [],
   "source": [
    "theta = np.deg2rad(90)"
   ]
  },
  {
   "cell_type": "markdown",
   "id": "e0855a6b-4da9-4654-a62e-4b6aa9330d04",
   "metadata": {},
   "source": [
    "### NED: X:North, Y: East, Z: Down\n",
    "\n",
    "### ENU: X:East, Y: North, Z: Up\n",
    "\n",
    "Here are the cardinal points for the two conventions:"
   ]
  },
  {
   "cell_type": "code",
   "execution_count": 3,
   "id": "3c4a7816-1f3d-477e-bbf3-0e54c52dda51",
   "metadata": {},
   "outputs": [],
   "source": [
    "reference_points = {}\n",
    "reference_points[\"NED\"] = {\n",
    "    \"north\": np.array([1, 0]), \n",
    "    \"east\" : np.array([0, 1]),\n",
    "    \"south\": np.array([-1, 0]), \n",
    "    \"west\" : np.array([0, -1]),\n",
    "}\n",
    "reference_points[\"ENU\"] = {\n",
    "    \"north\": np.array([0, 1]), \n",
    "    \"east\" : np.array([1, 0]),\n",
    "    \"south\": np.array([0, -1]), \n",
    "    \"west\" : np.array([-1, 0]),\n",
    "}\n"
   ]
  },
  {
   "cell_type": "markdown",
   "id": "b2bda075-d60a-4669-b443-0c418df19cc8",
   "metadata": {},
   "source": [
    "**This R takes North and rotates it towards to West in an NED coordinate system**\n",
    "This R matrix, is the rotation matrix that satisfies for +ve theta the conventiosn C1-C3"
   ]
  },
  {
   "cell_type": "markdown",
   "id": "00acb644-b250-4a01-b187-568e1f507a30",
   "metadata": {},
   "source": [
    "Here we will define our rotation matrix.  Careful, if this isn't correct things will go backwards."
   ]
  },
  {
   "cell_type": "code",
   "execution_count": 14,
   "id": "6c521de2-569c-4632-bc36-340b3e95c903",
   "metadata": {},
   "outputs": [],
   "source": [
    "def rotation_matrix(\n",
    "    theta: float,\n",
    "    conventional: bool = True\n",
    ") -> np.ndarray:\n",
    "    \"\"\"\n",
    "    theta: angle in radians\n",
    "    \"\"\"\n",
    "    R = np.asarray(\n",
    "        [\n",
    "            [np.cos(theta), -np.sin(theta)],\n",
    "            [np.sin(theta), np.cos(theta)],\n",
    "        ]\n",
    "    )\n",
    "    if conventional is False:\n",
    "        R = R.T  # this was the problem in issue 57 mtpy\n",
    "\n",
    "    # uncommnet below to hide 1e-17 floating point stuffs when looking at tutorial\n",
    "    # for i in range(2):\n",
    "    #     for j in range(2):\n",
    "    #         if np.abs(R[i,j]) < 1e-15:\n",
    "    #             #print(i,j)\n",
    "    #             R[i,j] = 0\n",
    "\n",
    "    return R\n",
    "    \n"
   ]
  },
  {
   "cell_type": "code",
   "execution_count": 15,
   "id": "2e585f35-6f82-4df2-b3e4-b93df2d2d51b",
   "metadata": {},
   "outputs": [
    {
     "data": {
      "text/plain": [
       "array([[ 6.123234e-17,  1.000000e+00],\n",
       "       [-1.000000e+00,  6.123234e-17]])"
      ]
     },
     "execution_count": 15,
     "metadata": {},
     "output_type": "execute_result"
    }
   ],
   "source": [
    "R = rotation_matrix(theta, conventional=False)\n",
    "R"
   ]
  },
  {
   "cell_type": "code",
   "execution_count": 16,
   "id": "64e82b46-0812-4091-b583-7044b3ae3b33",
   "metadata": {},
   "outputs": [
    {
     "data": {
      "text/plain": [
       "array([[1., 0.],\n",
       "       [0., 1.]])"
      ]
     },
     "execution_count": 16,
     "metadata": {},
     "output_type": "execute_result"
    }
   ],
   "source": [
    "# R.T == R^(-1)\n",
    "# Like all rotation matrices, R.T is the inverse of R\n",
    "R.T @ R"
   ]
  },
  {
   "cell_type": "markdown",
   "id": "82e02d01-4287-4adf-8a60-f252ba304dd3",
   "metadata": {},
   "source": [
    "Lets see the effect of this rotation matrix:"
   ]
  },
  {
   "cell_type": "code",
   "execution_count": 17,
   "id": "465b32cc-26a0-4536-b3b1-c22ecb48c5c4",
   "metadata": {},
   "outputs": [
    {
     "name": "stdout",
     "output_type": "stream",
     "text": [
      "north in NED points west after multiply\n"
     ]
    }
   ],
   "source": [
    "coordinate_frame = \"NED\"\n",
    "initial_direction = \"north\"\n",
    "result = R @ reference_points[coordinate_frame][initial_direction]\n",
    "\n",
    "for direction,vector in reference_points[coordinate_frame].items():\n",
    "    difference = np.abs(result-vector)\n",
    "    #print(direction, difference)\n",
    "    if np.isclose(difference,0, atol=1e-10).all():\n",
    "        print(f\"{initial_direction} in {coordinate_frame} points {direction} after multiply\")# by {R}\")"
   ]
  },
  {
   "cell_type": "markdown",
   "id": "822ef7dc-9da9-4305-a168-f98f274e4607",
   "metadata": {},
   "source": [
    "Whoops, look at the message, X-North, didnt rotate toward Y, as it should .. it rotated away from Y"
   ]
  },
  {
   "cell_type": "code",
   "execution_count": 18,
   "id": "597c6e04-11be-4c7d-9928-f0b5c428d4f2",
   "metadata": {},
   "outputs": [],
   "source": [
    "R = rotation_matrix(theta, conventional=True)"
   ]
  },
  {
   "cell_type": "markdown",
   "id": "d8411d29-a871-4515-958c-200f0a414588",
   "metadata": {},
   "source": [
    "#### Try again:\n"
   ]
  },
  {
   "cell_type": "code",
   "execution_count": 19,
   "id": "9620a193-5650-46f9-a431-50983d47e974",
   "metadata": {},
   "outputs": [
    {
     "name": "stdout",
     "output_type": "stream",
     "text": [
      "north in NED points east after multiply\n"
     ]
    }
   ],
   "source": [
    "coordinate_frame = \"NED\"\n",
    "initial_direction = \"north\"\n",
    "result = R @ reference_points[coordinate_frame][initial_direction]\n",
    "\n",
    "for direction,vector in reference_points[coordinate_frame].items():\n",
    "    difference = np.abs(result-vector)\n",
    "    #print(direction, difference)\n",
    "    if np.isclose(difference,0, atol=1e-10).all():\n",
    "        print(f\"{initial_direction} in {coordinate_frame} points {direction} after multiply\")# by {R}\")"
   ]
  },
  {
   "cell_type": "raw",
   "id": "ed7a8e97-0b1a-458a-86de-3b97b919bec0",
   "metadata": {},
   "source": []
  },
  {
   "cell_type": "markdown",
   "id": "4ba0f968-9146-4e93-8fd0-80f9a0f0d527",
   "metadata": {},
   "source": [
    "Yup, thats right."
   ]
  },
  {
   "cell_type": "markdown",
   "id": "12125f49-a5ed-46cb-b736-7f64c7d362f5",
   "metadata": {},
   "source": [
    "### ENU: X:East, Y: North, Z: Up"
   ]
  },
  {
   "cell_type": "code",
   "execution_count": 20,
   "id": "a682216e-f5af-428a-862a-93dae26188c3",
   "metadata": {},
   "outputs": [
    {
     "name": "stdout",
     "output_type": "stream",
     "text": [
      "north in ENU points west after multiply\n"
     ]
    }
   ],
   "source": [
    "coordinate_frame = \"ENU\"\n",
    "initial_direction = \"north\"\n",
    "result = R @ reference_points[coordinate_frame][initial_direction]\n",
    "\n",
    "for direction,vector in reference_points[coordinate_frame].items():\n",
    "    difference = np.abs(result-vector)\n",
    "    #print(direction, difference)\n",
    "    if np.isclose(difference,0, atol=1e-10).all():\n",
    "        print(f\"{initial_direction} in {coordinate_frame} points {direction} after multiply\")# by {R}\")\n"
   ]
  },
  {
   "cell_type": "markdown",
   "id": "f6c23357-1f54-4191-b5c6-eaeae63d16ee",
   "metadata": {},
   "source": [
    "So the same rotation matrix rotates the vector in opposite directions depending on the coordinate system."
   ]
  },
  {
   "cell_type": "code",
   "execution_count": 21,
   "id": "98d436fa-6997-47a1-a32a-4818ac72a012",
   "metadata": {},
   "outputs": [],
   "source": [
    "R = rotation_matrix(np.deg2rad(30))"
   ]
  },
  {
   "cell_type": "code",
   "execution_count": 22,
   "id": "924cb6d2-eeb1-47e2-b156-48ac98f0d17c",
   "metadata": {},
   "outputs": [],
   "source": [
    "Z_temp = np.asarray(\n",
    "    [\n",
    "        [1, 2],\n",
    "        [3, 4],\n",
    "    ]\n",
    ") "
   ]
  },
  {
   "cell_type": "code",
   "execution_count": 23,
   "id": "b2ede52e-b92a-4a20-8b53-db0b2167c5d7",
   "metadata": {},
   "outputs": [
    {
     "data": {
      "text/plain": [
       "array([[-0.41506351, -0.54903811],\n",
       "       [ 0.45096189,  5.41506351]])"
      ]
     },
     "execution_count": 23,
     "metadata": {},
     "output_type": "execute_result"
    }
   ],
   "source": [
    "R @ Z_temp @ R.T"
   ]
  },
  {
   "cell_type": "code",
   "execution_count": 24,
   "id": "96999aee-77dd-4ef7-bae1-1dc1be4625c2",
   "metadata": {},
   "outputs": [
    {
     "data": {
      "text/plain": [
       "array([[3.91506351, 2.04903811],\n",
       "       [3.04903811, 1.08493649]])"
      ]
     },
     "execution_count": 24,
     "metadata": {},
     "output_type": "execute_result"
    }
   ],
   "source": [
    "R.T @ Z_temp @ R"
   ]
  },
  {
   "cell_type": "markdown",
   "id": "656a9e82-afd0-48a7-ab0f-e9f562b46b6b",
   "metadata": {},
   "source": [
    "**See above: RT Z R does not equal R Z RT in general**\n",
    "(but it does for 90degree angles)"
   ]
  },
  {
   "cell_type": "markdown",
   "id": "d77294c4-d572-4dfc-b388-8fa7d7111aa9",
   "metadata": {},
   "source": [
    "# TODO Clean up math here:\n",
    "#### Justification for selection of R Z RT"
   ]
  },
  {
   "cell_type": "markdown",
   "id": "eacb6ac0-7b12-4fd0-a0c8-1e9c8332aab7",
   "metadata": {},
   "source": [
    "$E_x = Zxx Hx + Zxy Hy$\n",
    "\n",
    "Assuming Hx, Hy are orthogonal, say Hx was 30 degrees was off north, pointing NNE and Hy was 30 degrees off East, pointing ESE.\n",
    "\n",
    "Then to Get H projected onto North and East (in our NED system) we would want to rotate by -30 degrees.\n",
    "\n",
    "...\n",
    "\n",
    "To fix the electric fields, (if everything was labelled correct .. careful here, we would do the same)\n"
   ]
  },
  {
   "cell_type": "code",
   "execution_count": 26,
   "id": "d3bf17af-d641-4e46-9c9b-df564366c1b2",
   "metadata": {},
   "outputs": [
    {
     "data": {
      "text/plain": [
       "'\\nZ = [\\n    Zxx, Zxy\\n    Zyx, Zyy\\n    ]\\n\\nIn the beginninig X, Y are just the axes of data acquistion, they are not cardinal driections yet\\nLet Z_card denote the impedance tensor in cardinal frame.\\n\\nE = Z H\\nEx = ZxxHx + ZxyHy\\nEy = ZyxHx + ZyyHy\\n\\nRE = Z_card RH  # mult both sides by RT\\nRT RE = RT Z_card RH  The LHS becomes E\\nE = RT Z_card RH  The LHS becomes E\\nBut then that equals ZH by definition ...  E = Z H, substitute ZH for E\\nZH = RT Z_card RH Now notice that AB = CB IFF A==C (remocve the H)\\nZ = RT Z_card R ... multiply by R on the left\\nRZ = Z_card R ... multiply by RT on the right\\nR Z RT = Z_card\\n\\n\\n E = Z H\\n\\n\\n\\n\\nEn = ZnnHn + ZneHe\\nEe = ZenHn + ZeeHe\\n'"
      ]
     },
     "execution_count": 26,
     "metadata": {},
     "output_type": "execute_result"
    }
   ],
   "source": [
    "\"\"\"\n",
    "Z = [\n",
    "    Zxx, Zxy\n",
    "    Zyx, Zyy\n",
    "    ]\n",
    "\n",
    "In the beginninig X, Y are just the axes of data acquistion, they are not cardinal driections yet\n",
    "Let Z_card denote the impedance tensor in cardinal frame.\n",
    "\n",
    "E = Z H\n",
    "Ex = ZxxHx + ZxyHy\n",
    "Ey = ZyxHx + ZyyHy\n",
    "\n",
    "RE = Z_card RH  # mult both sides by RT\n",
    "RT RE = RT Z_card RH  The LHS becomes E\n",
    "E = RT Z_card RH  The LHS becomes E\n",
    "But then that equals ZH by definition ...  E = Z H, substitute ZH for E\n",
    "ZH = RT Z_card RH Now notice that AB = CB IFF A==C (remocve the H)\n",
    "Z = RT Z_card R ... multiply by R on the left\n",
    "RZ = Z_card R ... multiply by RT on the right\n",
    "R Z RT = Z_card\n",
    "\n",
    "\n",
    " E = Z H\n",
    "\n",
    "\n",
    "\n",
    "\n",
    "En = ZnnHn + ZneHe\n",
    "Ee = ZenHn + ZeeHe\n",
    "\"\"\""
   ]
  },
  {
   "cell_type": "code",
   "execution_count": 27,
   "id": "b21388b0-8b7f-4f68-b84e-01973210472d",
   "metadata": {},
   "outputs": [
    {
     "data": {
      "text/plain": [
       "array([[0.3+0.j, 2. +1.j],\n",
       "       [3. +0.j, 4. +0.j]])"
      ]
     },
     "execution_count": 27,
     "metadata": {},
     "output_type": "execute_result"
    }
   ],
   "source": [
    "\n",
    "Z_temp = np.asarray(\n",
    "    [\n",
    "        [0.3, complex(2,1)],\n",
    "        [3, 4],\n",
    "    ]\n",
    ") \n",
    "Z_temp"
   ]
  },
  {
   "cell_type": "code",
   "execution_count": null,
   "id": "9d808bb9-dd0c-4b9b-9538-7acc24137e03",
   "metadata": {},
   "outputs": [],
   "source": []
  },
  {
   "cell_type": "code",
   "execution_count": 28,
   "id": "f1f0c51c-b17b-4dba-b70a-7413f9b80692",
   "metadata": {},
   "outputs": [
    {
     "data": {
      "text/plain": [
       "array([[-0.94006351-0.4330127j, -0.852147  +0.75j     ],\n",
       "       [ 0.147853  -0.25j     ,  5.24006351+0.4330127j]])"
      ]
     },
     "execution_count": 28,
     "metadata": {},
     "output_type": "execute_result"
    }
   ],
   "source": [
    "R@Z_temp@R.T"
   ]
  },
  {
   "cell_type": "code",
   "execution_count": 29,
   "id": "f291c994-f1d5-4c98-a1db-9740b2477812",
   "metadata": {},
   "outputs": [],
   "source": [
    "# x1, x2: S1 S2\n",
    "# x3, x4: D1 D2\n",
    "# def simpson_strike(Z, alpha):\n",
    "#     S1 = Z[0,0] + Z[1, 1]\n",
    "#     S2 = Z[0,1] + Z[1, 0]\n",
    "#     D1 = Z[0,0] - Z[1, 1]\n",
    "#     S2 = Z[0,1] - Z[1, 0]\n",
    "#     S2_prime = (S2 * np.cos(alpha)**2) - (D1 * np.sin(alpha)**2)\n",
    "#     D1_prime = (D1* np.cos(alpha)**2) + (S2 * np.sin(alpha)**2)\n",
    "    \n",
    "#     numerator = 2*np.real()\n",
    "#     fouralpha = np.arctan2()"
   ]
  },
  {
   "cell_type": "code",
   "execution_count": 30,
   "id": "5169e5a7-9f41-4e90-b038-9cc975e031c2",
   "metadata": {},
   "outputs": [],
   "source": [
    "import copy"
   ]
  },
  {
   "cell_type": "code",
   "execution_count": 33,
   "id": "043b463e-8aac-40be-b4b2-18117fcb6b1f",
   "metadata": {},
   "outputs": [],
   "source": [
    "square_diag = np.zeros(360)\n",
    "for i in range(360):\n",
    "    R = rotation_matrix(np.deg2rad(i))\n",
    "    rotated = R@Z_temp@R.T\n",
    "    square_diag[i] = np.abs(rotated[0,0])**2 + np.abs(rotated[1,1])**2\n",
    "\n",
    "import matplotlib.pyplot as plt\n",
    "initial_square_diag = copy.deepcopy(square_diag)\n",
    "#plt.plot(square_diag)\n",
    "    "
   ]
  },
  {
   "cell_type": "code",
   "execution_count": 34,
   "id": "10bd7819-a2a7-4851-9430-6d7f018d48f7",
   "metadata": {},
   "outputs": [],
   "source": [
    "R30  =rotation_matrix(np.deg2rad(10))"
   ]
  },
  {
   "cell_type": "code",
   "execution_count": 35,
   "id": "7a266ae9-8e17-48c9-bbde-97ca7525e51c",
   "metadata": {},
   "outputs": [],
   "source": [
    "Z30 = R30@Z_temp@R30.T"
   ]
  },
  {
   "cell_type": "code",
   "execution_count": 37,
   "id": "752943e1-d8a9-4717-9930-d1baddec6c58",
   "metadata": {},
   "outputs": [
    {
     "data": {
      "text/plain": [
       "<matplotlib.legend.Legend at 0x74bbef5e93d0>"
      ]
     },
     "execution_count": 37,
     "metadata": {},
     "output_type": "execute_result"
    },
    {
     "data": {
      "image/png": "[encoded data removed]",
      "text/plain": [
       "<Figure size 640x480 with 1 Axes>"
      ]
     },
     "metadata": {},
     "output_type": "display_data"
    }
   ],
   "source": [
    "square_diag = np.zeros(360)\n",
    "for i in range(360):\n",
    "    R = rotation_matrix(np.deg2rad(i))\n",
    "    rotated = R@Z30@R.T\n",
    "    square_diag[i] = np.abs(rotated[0,0])**2 + np.abs(rotated[1,1])**2\n",
    "square_diag_30 = copy.deepcopy(square_diag)\n",
    "import matplotlib.pyplot as plt\n",
    "plt.plot(initial_square_diag, label=\"INIT\")\n",
    "plt.plot(square_diag_30, label=\"30\")\n",
    "plt.legend()"
   ]
  },
  {
   "cell_type": "code",
   "execution_count": 137,
   "id": "4f365272-c3a6-460b-8ce5-fce0e4bfa249",
   "metadata": {},
   "outputs": [
    {
     "data": {
      "text/plain": [
       "array([ 0.98480775, -0.17364818])"
      ]
     },
     "execution_count": 137,
     "metadata": {},
     "output_type": "execute_result"
    }
   ],
   "source": [
    "R30 @ np.array([1, 0]).T"
   ]
  },
  {
   "cell_type": "code",
   "execution_count": null,
   "id": "13d3e900-39ad-4cec-b5b4-e3ee6117f864",
   "metadata": {},
   "outputs": [],
   "source": []
  },
  {
   "cell_type": "code",
   "execution_count": null,
   "id": "1bd271ec-a72f-4b7f-8c4a-6523543b3b39",
   "metadata": {},
   "outputs": [],
   "source": []
  },
  {
   "cell_type": "code",
   "execution_count": null,
   "id": "0974be05-bbff-4fb8-a85c-53a9c7a836b9",
   "metadata": {},
   "outputs": [],
   "source": []
  }
 ],
 "metadata": {
  "kernelspec": {
   "display_name": "aurora-test",
   "language": "python",
   "name": "aurora-test"
  },
  "language_info": {
   "codemirror_mode": {
    "name": "ipython",
    "version": 3
   },
   "file_extension": ".py",
   "mimetype": "text/x-python",
   "name": "python",
   "nbconvert_exporter": "python",
   "pygments_lexer": "ipython3",
   "version": "3.9.19"
  }
 },
 "nbformat": 4,
 "nbformat_minor": 5
}
