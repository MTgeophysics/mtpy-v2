{
 "cells": [
  {
   "cell_type": "code",
   "execution_count": 1,
   "id": "10dc2a0e-ac6f-477d-9f32-51066f89d35c",
   "metadata": {},
   "outputs": [],
   "source": [
    "# ! pip install ipywidgets\n",
    "# ! pip install ipympl\n",
    "# !jupyter labextension list\n",
    "# %matplotlib widget"
   ]
  },
  {
   "cell_type": "markdown",
   "id": "47b06d50-907f-4498-9b95-4a53458df4ce",
   "metadata": {},
   "source": [
    "# Rotations in MTpy-v2\n",
    "\n",
    "Rotations can be confusing and overly complicated.  Here we try to reduce confusion by setting some conventions used for `MTpy-v2` and most all magnetotelluric transfer functions.\n",
    "\n",
    "\n",
    "## Convention 1: Postive Rotation\n",
    "\n",
    "**A positive rotation, about the z-axis, in a Right Handed Coordinate frame is defined as a rotation where the x-axis moves towards the y-axis**\n",
    "\n",
    "Corrolarys:\n",
    "\n",
    "1. A positive rotation, is counter-clockwise (CCW) when you are looking from the positive z-axis, down onto the Z=0 plane.\n",
    "\n",
    "2. A positive rotation, is clockwise (CW) when you are looking from the negative z-axis, up onto the Z=0 plane.\n",
    "\n",
    "3. A positive rotation, causes the X-axis to rotate towards the Y-axis\n",
    "\n",
    "## Convention 2: MT Coordinate System NED\n",
    "\n",
    "The coordinate system that is assumed in `MTpy-v2` and nearly all MT transfer functions is **NED**\n",
    "\n",
    "**NED**:\n",
    "\n",
    " - **X**: North\n",
    " - **Y**: East\n",
    " - **Z**: Positive Down \n",
    "\n",
    "```sequence\n",
    "\n",
    "   North (x)\n",
    "   ^\n",
    "   | --> + angle\n",
    "   |       \n",
    "   |   NED  \n",
    "   |          \n",
    "  -x------------> East (y)\n",
    "   | (z+ down)\n",
    "```\n",
    "\n",
    "**ENU**:\n",
    "\n",
    " - **X**: East\n",
    " - **Y**: North\n",
    " - **Z**: Positive Up  \n",
    "\n",
    "```sequence\n",
    "\n",
    "   North (y)\n",
    "   ^\n",
    "   |         + angle\n",
    "   |           ^\n",
    "   |   ENU     |\n",
    "   |           |\n",
    "  -O------------> East (x)\n",
    "   | (z+ up)\n",
    "```\n",
    "\n",
    "\n",
    "## Things that invert polarity of rotations\n",
    "\n",
    "A.  **Coordinate Frame**: If you switch between NED and ENU, the effect of the same rotation matrix on a vector, will push it in the opposite direction, when you look at the vector in a map-like reference frame (up is north, to the right is east).\n",
    "\n",
    "B. The sign of the rotation angle (positive (+) vs negative (-) angle). \n",
    "\n",
    "C. Choice of similarity transform definition $R Z R^T$ vs $R^T Z R$ \n",
    "\n",
    "- We use $R Z R^T$ which is appropriate for the MT Equation formulation $E = ZH$\n",
    "- Justification is provided below\n",
    "\n",
    "D. Definition of Rotation Matrix\n",
    "\n",
    "\\begin{equation*}\n",
    "R\n",
    "= \n",
    "\\begin{bmatrix} cos(\\theta) & -sin(\\theta)  \\\\ sin(\\theta) & cos(\\theta) \\end{bmatrix} \n",
    "\\end{equation*}\n",
    "\n",
    "Carefull not to define the rotation matrix as $R^T$, which is also a rotation matrix, and is the inverse of $R$, i.e. it rotates the other way.  "
   ]
  },
  {
   "cell_type": "code",
   "execution_count": 1,
   "id": "cb135a3e-ba7d-4855-8d90-49808bd81b5d",
   "metadata": {},
   "outputs": [],
   "source": [
    "import matplotlib.pyplot as plt\n",
    "import numpy as np\n",
    "# from scipy.spatial.transform import Rotation"
   ]
  },
  {
   "cell_type": "markdown",
   "id": "e0855a6b-4da9-4654-a62e-4b6aa9330d04",
   "metadata": {},
   "source": [
    "\n",
    "##### Here are the cardinal points for the two conventions:"
   ]
  },
  {
   "cell_type": "code",
   "execution_count": 2,
   "id": "3c4a7816-1f3d-477e-bbf3-0e54c52dda51",
   "metadata": {},
   "outputs": [],
   "source": [
    "# NED: X:North, Y: East, Z: Down\n",
    "\n",
    "reference_points = {}\n",
    "reference_points[\"NED\"] = {\n",
    "    \"north\": np.array([1, 0]), \n",
    "    \"east\" : np.array([0, 1]),\n",
    "    \"south\": np.array([-1, 0]), \n",
    "    \"west\" : np.array([0, -1]),\n",
    "}\n",
    "\n",
    "# ENU: X:East, Y: North, Z: Up\n",
    "reference_points[\"ENU\"] = {\n",
    "    \"north\": np.array([0, 1]), \n",
    "    \"east\" : np.array([1, 0]),\n",
    "    \"south\": np.array([0, -1]), \n",
    "    \"west\" : np.array([-1, 0]),\n",
    "}\n"
   ]
  },
  {
   "cell_type": "markdown",
   "id": "00acb644-b250-4a01-b187-568e1f507a30",
   "metadata": {},
   "source": [
    "Define our rotation matrix R.  \n",
    "\n",
    "_Careful, if this isn't correct things will go backwards._"
   ]
  },
  {
   "cell_type": "code",
   "execution_count": 3,
   "id": "6c521de2-569c-4632-bc36-340b3e95c903",
   "metadata": {},
   "outputs": [],
   "source": [
    "def rotation_matrix(\n",
    "    theta: float,\n",
    "    conventional: bool = True\n",
    ") -> np.ndarray:\n",
    "    \"\"\"\n",
    "    Parameters\n",
    "    theta: float\n",
    "        Rotation angle in radians\n",
    "    conventional: Optional[bool]\n",
    "        Set to False to return R^-1 = R.T.  Just for this tutorial.\n",
    "    \"\"\"\n",
    "    R = np.asarray(\n",
    "        [\n",
    "            [np.cos(theta), -np.sin(theta)],\n",
    "            [np.sin(theta), np.cos(theta)],\n",
    "        ]\n",
    "    )\n",
    "    if conventional is False:\n",
    "        R = R.T  # this was the problem in issue 57 mtpy\n",
    "\n",
    "    # uncomment below to hide 1e-17 floating point stuffs when looking at tutorial\n",
    "    R[np.abs(R) < 1e-15] = 0\n",
    "\n",
    "\n",
    "    return R\n",
    "    \n"
   ]
  },
  {
   "cell_type": "markdown",
   "id": "1415757d",
   "metadata": {},
   "source": [
    "Make sure $R^T =  R^{-1}$"
   ]
  },
  {
   "cell_type": "code",
   "execution_count": 4,
   "id": "2e585f35-6f82-4df2-b3e4-b93df2d2d51b",
   "metadata": {},
   "outputs": [
    {
     "data": {
      "text/plain": [
       "array([[ 0., -1.],\n",
       "       [ 1.,  0.]])"
      ]
     },
     "execution_count": 4,
     "metadata": {},
     "output_type": "execute_result"
    }
   ],
   "source": [
    "theta = np.deg2rad(90)\n",
    "R = rotation_matrix(theta, conventional=True)\n",
    "R"
   ]
  },
  {
   "cell_type": "code",
   "execution_count": 13,
   "id": "64e82b46-0812-4091-b583-7044b3ae3b33",
   "metadata": {},
   "outputs": [],
   "source": [
    "# R.T == R^(-1)\n",
    "assert (R.T @ R == np.eye(2)).all()"
   ]
  },
  {
   "cell_type": "markdown",
   "id": "cf5128bf",
   "metadata": {},
   "source": [
    "### Set the rotation angle\n",
    "\n",
    "Here you can change the rotation angle.  For a sanity check we rotate by 90 degrees, effectively swapping components of the impedance tensor.  "
   ]
  },
  {
   "cell_type": "code",
   "execution_count": 14,
   "id": "b084bb6f-f7ab-4aca-ab0c-9a153d3695ab",
   "metadata": {},
   "outputs": [],
   "source": [
    "theta = np.deg2rad(90)"
   ]
  },
  {
   "cell_type": "markdown",
   "id": "b9df1f09-0aa9-458c-bd92-bf130039aee5",
   "metadata": {},
   "source": [
    "### Sanity Check 1\n",
    "\n",
    "According to convention 1, in a NED frame, R should rotate a vector pointing **North** towards the **East** (X towards Y)."
   ]
  },
  {
   "cell_type": "code",
   "execution_count": 15,
   "id": "ce7d2919-bb7e-4e31-879a-dab68e6a4ef2",
   "metadata": {},
   "outputs": [
    {
     "name": "stdout",
     "output_type": "stream",
     "text": [
      "north in the coordinate reference frame NED points east after multiplying by R.\n"
     ]
    }
   ],
   "source": [
    "coordinate_frame = \"NED\"\n",
    "initial_direction = \"north\"\n",
    "result = R @ reference_points[coordinate_frame][initial_direction]\n",
    "\n",
    "for direction,vector in reference_points[coordinate_frame].items():\n",
    "    difference = np.abs(result-vector)\n",
    "    if np.isclose(difference,0, atol=1e-10).all():\n",
    "        print(f\"{initial_direction} in the coordinate reference frame {coordinate_frame} points {direction} after multiplying by R.\")"
   ]
  },
  {
   "cell_type": "markdown",
   "id": "cf35ee79-14b9-4a7b-bff1-6ec4e8b60656",
   "metadata": {},
   "source": [
    "The sanity check passed, the north vector has been rotated to the east. A positive angle rotates from north towards the east.\n",
    "\n",
    "**This R matrix, is the rotation matrix that satisfies Conventions 1 and 2.**"
   ]
  },
  {
   "cell_type": "markdown",
   "id": "515dade3-b443-4b39-a34e-ece7142980bc",
   "metadata": {},
   "source": [
    "### Sanity check 2:\n",
    "\n",
    "- In **ENU** R(90) will rotate North to the West\n",
    "\n",
    "According to convention 1, in a ENU frame, R should rotate a vector pointing **North** towards the **West** (Y towards -X)."
   ]
  },
  {
   "cell_type": "markdown",
   "id": "82e02d01-4287-4adf-8a60-f252ba304dd3",
   "metadata": {},
   "source": [
    "Lets see the effect of this rotation matrix:"
   ]
  },
  {
   "cell_type": "code",
   "execution_count": 16,
   "id": "465b32cc-26a0-4536-b3b1-c22ecb48c5c4",
   "metadata": {},
   "outputs": [
    {
     "name": "stdout",
     "output_type": "stream",
     "text": [
      "north in the coordinate reference frame ENU points west after multiplying.\n"
     ]
    }
   ],
   "source": [
    "coordinate_frame = \"ENU\"\n",
    "initial_direction = \"north\"\n",
    "result = R @ reference_points[coordinate_frame][initial_direction]\n",
    "\n",
    "for direction,vector in reference_points[coordinate_frame].items():\n",
    "    difference = np.abs(result-vector)\n",
    "    #print(direction, difference)\n",
    "    if np.isclose(difference,0, atol=1e-10).all():\n",
    "        print(f\"{initial_direction} in the coordinate reference frame {coordinate_frame} points {direction} after multiplying.\")# by {R}\")"
   ]
  },
  {
   "cell_type": "markdown",
   "id": "4ba0f968-9146-4e93-8fd0-80f9a0f0d527",
   "metadata": {},
   "source": [
    "Correct.\n"
   ]
  },
  {
   "cell_type": "markdown",
   "id": "f6c23357-1f54-4191-b5c6-eaeae63d16ee",
   "metadata": {},
   "source": [
    "So the same rotation matrix **R** rotates the vector in opposite directions depending on the coordinate system. This is the reason we need to use the proper rotation matrix depending on our coordinate system."
   ]
  },
  {
   "cell_type": "markdown",
   "id": "c31dd9a8-5785-4af8-ba61-650a12c067c1",
   "metadata": {},
   "source": [
    "## Rotating the Impedance Tensor"
   ]
  },
  {
   "cell_type": "markdown",
   "id": "eb88503b-f462-4b94-af78-3675335f3908",
   "metadata": {},
   "source": [
    "Below is a cartoon to hopefully help motivate rotating the impedance tensor."
   ]
  },
  {
   "cell_type": "code",
   "execution_count": 17,
   "id": "26a60171-8f51-4c5f-b72e-fc8ee6e4b950",
   "metadata": {},
   "outputs": [
    {
     "name": "stdout",
     "output_type": "stream",
     "text": [
      "The coil, when laid out in the field, was rotated by 30 degrees\n"
     ]
    },
    {
     "data": {
      "image/png": "[encoded data removed]",
      "text/plain": [
       "<Figure size 640x480 with 1 Axes>"
      ]
     },
     "metadata": {},
     "output_type": "display_data"
    }
   ],
   "source": [
    "fig, ax = plt.subplots()\n",
    "\n",
    "#np.array([0,0]), np.array([0,1]), color=\"black\", linewidth=5) \n",
    "\n",
    "ax.set_xlim([-2, 2])\n",
    "ax.set_ylim([-2, 2])\n",
    "ax.set_xlabel(\"East (Y)\")\n",
    "ax.set_ylabel(\"North (X)\")\n",
    "\n",
    "theta_coil_degrees = 30\n",
    "print(f\"The coil, when laid out in the field, was rotated by {theta_coil_degrees} degrees\")\n",
    "R_theta = rotation_matrix(np.deg2rad(theta_coil_degrees))\n",
    "R_coil = R_theta @ reference_points[\"NED\"][\"north\"]\n",
    "\n",
    "# Careful when plotting here: we need to invert matplotlibs convention of X increasing left to right and Y increasing down-to-up\n",
    "ax.arrow(0, 0, 0, 1,  color=\"black\", linewidth=5, label=\"North\") \n",
    "ax.arrow(0, 0, R_coil[1], R_coil[0],  color=\"red\", linewidth=5, label=\"X coil\") # normally you would pass ax.arrow(0, 0, R_coil[0], R_coil[1])\n",
    "ax.legend()\n",
    "plt.show()"
   ]
  },
  {
   "cell_type": "markdown",
   "id": "031d337b-dd25-49bc-80e0-f4345014347c",
   "metadata": {},
   "source": [
    "Figure: The red arrow denotes the orientation of a coil in the field, the black arrow denotes north.  \n",
    "\n",
    "The coil, when laid out was 30 degrees +ve rotated from North, so \n",
    "\n",
    "**The rotation matrix R, will be $R(-30)$ -- the matrix that maps the field coordinates back to Cardinal**.\n",
    "\n",
    "_Another way to say it: The data that we acquired is what would have been measured if we had laid the sensors along the cardinal axes, and then applied a +30 degree rotation.  Thus, we need to apply -30 to get the cardinal data back._"
   ]
  },
  {
   "cell_type": "markdown",
   "id": "d93f628c-028e-4442-8de1-82707002847b",
   "metadata": {},
   "source": [
    "Now that we are on solid ground rotating vectors, let's think about what we are doing when we rotate the impedance tensor.\n",
    "\n",
    "**Assumption**: The data have been collected with an orthoganal layout.  If the sensors were not perpendicular when laid out in the field, an addition processing step _Orthogonalization_ is needed.  We assume this has already been carried out.\n",
    "\n",
    "So we have data: $E_x, E_y, H_x, H_y$ that is associated with a Right Handed Coordinate System, with Z-down.\n",
    "\n",
    "We need to rotate the data through some angle $\\theta$ so that it is as if the sensors were oriented along the cardinal direction during acquistion.\n",
    "\n",
    "**Caution**: The value of $\\theta$ here is the value that rotates the E, H _**from**_ instrument coordinates _**to**_ NED.  It is easy to accidentally measure the angle from North, say, to your X-magnetometer and and call it $\\theta$, but that is _negative_ theta.  See Figure above.\n",
    "\n",
    "\n",
    "### Gory detail:\n",
    "\n",
    "\\begin{equation*}\n",
    "\\begin{bmatrix} E_x \\\\ E_y \\end{bmatrix} \n",
    "= \n",
    "\\begin{bmatrix} Z_{xx} & Z_{xy}  \\\\ Z_{yx} & Z_{yy} \\end{bmatrix} \n",
    "\\begin{bmatrix} H_x \\\\ H_y \\end{bmatrix}\n",
    "\\label{eq:1} \\tag{1}\n",
    "\\end{equation*}\n",
    "\n",
    "\n",
    "Abbreviating:\n",
    "\n",
    "\n",
    "\\begin{equation*}\n",
    "E = Z H\n",
    "\\label{eq:2} \\tag{2}\n",
    "\\end{equation*}\n",
    "\n",
    "We can accomplish this by rotating both $E$ and $H$ by $\\theta$\n",
    "\n",
    "Let $R_{\\theta}$ denote the rotation matrix, that rotates $E, H$ vectors into the cardinal frame. Let $Z_c$ denote the Impedance tensor in the Cardinal Frame (Sensors oriented North and East).\n",
    "\n",
    "\n",
    "Then\n",
    "\n",
    "\\begin{equation*}\n",
    "R_{\\theta} E = Z_c R_{\\theta} H\n",
    "\\label{eq:3} \\tag{3}\n",
    "\\end{equation*}\n",
    "\n",
    "Multiply both sides of $\\eqref{eq:3}$ by $R_{\\theta}^T$ on the left.\n",
    "\n",
    "\\begin{equation*}\n",
    "R_{\\theta}^T R_{\\theta} E = R_{\\theta}^T Z_c R_{\\theta} H\n",
    "\\label{eq:4} \\tag{4}\n",
    "\\end{equation*}\n",
    "\n",
    "Then note that the $R^TR$ on the LHS term above is the identity matrix so $\\eqref{eq:4}$ reduces to:\n",
    "\n",
    "\\begin{equation*}\n",
    "E = R_{\\theta}^T Z_c R_{\\theta} H\n",
    "\\label{eq:5} \\tag{5}\n",
    "\\end{equation*}\n",
    "\n",
    "Now substitute for $E$ on the LHS of $\\eqref{eq:5}$, $ZH$ (By definition of $\\eqref{eq:2}$)\n",
    "\n",
    "\\begin{equation*}\n",
    "ZH = R_{\\theta}^T Z_c R_{\\theta} H\n",
    "\\label{eq:6} \\tag{6}\n",
    "\\end{equation*}\n",
    "\n",
    "\n",
    "By method of staring at $\\eqref{eq:6}$, we see that it must be true that\n",
    "\n",
    "\\begin{equation*}\n",
    "Z = R_{\\theta}^T Z_c R_{\\theta}\n",
    "\\label{eq:7} \\tag{7}\n",
    "\\end{equation*}\n",
    "\n",
    "\n",
    "Multiply both sides of $\\eqref{eq:7}$ by $R_{\\theta}$ on the left.\n",
    "\n",
    "\\begin{equation*}\n",
    "R_{\\theta} Z = R_{\\theta} R_{\\theta}^T Z_c R_{\\theta}\n",
    "\\label{eq:8} \\tag{8}\n",
    "\\end{equation*}\n",
    "\n",
    "And replace $R_{\\theta} R_{\\theta}^T$ with the identity matrix:\n",
    "\n",
    "\\begin{equation*}\n",
    "R_{\\theta} Z = Z_c R_{\\theta}\n",
    "\\label{eq:9} \\tag{9}\n",
    "\\end{equation*}\n",
    "\n",
    "Multiply both sides of $\\eqref{eq:9}$ by $R_{\\theta}^T$ on the right:\n",
    "\n",
    "\\begin{equation*}\n",
    "R_{\\theta} Z R_{\\theta}^T = Z_c R_{\\theta} R_{\\theta}^T\n",
    "\\label{eq:10} \\tag{10}\n",
    "\\end{equation*}\n",
    "\n",
    "\n",
    "Once agin,  replace $R_{\\theta} R_{\\theta}^T$ with the identity matrix:\n",
    "\n",
    "\\begin{equation*}\n",
    "R_{\\theta} Z R_{\\theta}^T = Z_c \n",
    "\\label{eq:11} \\tag{11}\n",
    "\\end{equation*}\n",
    "\n",
    "At last, we see that the Cardinal Impedance Tensor $Z_c$ can be obtained from $Z$ (the impedance tensor computed in an othogonal, right-handed frame, rotated ) at some angle.\n",
    "\n",
    "\n",
    "\n",
    "\n",
    "\n"
   ]
  },
  {
   "cell_type": "markdown",
   "id": "fe07fdcb-2c5a-4d07-8001-c9e49bfd8146",
   "metadata": {},
   "source": [
    "<div class=\"alert alert-block alert-info\"> <b>NOTE</b> TLDR. </div>\n",
    "\n",
    "- $Z_c = RZR^T$\n",
    "- $Z = R^TZ_c R$\n",
    "\n",
    "Where R is the Rotation Matrix which takes an E, H vector in the field-acquisition coordinate frame and rotates it to NED.\n"
   ]
  },
  {
   "cell_type": "markdown",
   "id": "fc9f05a4-b426-416a-8370-85311f54c332",
   "metadata": {},
   "source": [
    "Note that\n",
    "$RZR^T$ does not in general equal $R^TZR$ (although they are equal for 90 degrees)."
   ]
  },
  {
   "cell_type": "markdown",
   "id": "4172968d-3e03-4672-9e4f-f259a8d6db16",
   "metadata": {},
   "source": [
    "# Electromagnetic Strike Angle\n",
    "\n",
    "This is the angle of impedance tensor rotation at which the earth is maximally 2D, i.e. where the magnitude of the trace of $Z$ is minimal.\n",
    "\n",
    "Here are some tools for sanity checking strike angle:\n",
    "\n",
    "Assume we have the impedance tensor in Cardinal frame:"
   ]
  },
  {
   "cell_type": "code",
   "execution_count": 18,
   "id": "b21388b0-8b7f-4f68-b84e-01973210472d",
   "metadata": {},
   "outputs": [
    {
     "data": {
      "text/plain": [
       "array([[0.3+0.j, 2. +1.j],\n",
       "       [3. +0.j, 4. +0.j]])"
      ]
     },
     "execution_count": 18,
     "metadata": {},
     "output_type": "execute_result"
    }
   ],
   "source": [
    "# TODO: get a more realistic Z tensor\n",
    "Zc = np.asarray(\n",
    "    [\n",
    "        [0.3, complex(2,1)],\n",
    "        [3, 4],\n",
    "    ]\n",
    ") \n",
    "Zc"
   ]
  },
  {
   "cell_type": "code",
   "execution_count": 19,
   "id": "03142ee2-8658-47a5-8551-7984b0647a7b",
   "metadata": {},
   "outputs": [],
   "source": [
    "def rotate_field_to_cardinal(Z, theta):\n",
    "    \"\"\"\n",
    "        Parameters\n",
    "        ----------\n",
    "        Z: np.ndarray\n",
    "            This is an impedance tensor measured in an orthogonal, Right handed instrument coordinate frame\n",
    "        theta: float\n",
    "            This is the angle, in radians, by which the field Z must be rotated to align with the Cardinal frame (NED).\n",
    "            It is therefore the opposite of the angle by which the deployed instruments were rotated from NED.\n",
    "            \n",
    "        Returns\n",
    "        -------\n",
    "        rotated: np.ndarray\n",
    "            The value of the impedance tensor that would have been measured if the instruments were deployed in the Cardinal frame.\n",
    "            \n",
    "        Notes: \n",
    "        - The sensors were deployed rotated by _negative theta_.\n",
    "        - Rotating by +ve theta means X-towards-Y (North-towards-East)\n",
    "        - R (Rotation Matrix) maps E, H vectors in the field-acquisition coordinate frame to NED.\n",
    "\n",
    "    \"\"\"\n",
    "    R = rotation_matrix(theta)\n",
    "    rotated = R @ Z @ R.T\n",
    "    return rotated\n",
    "    \n",
    "\n",
    "def rotate_cardinal_to_field(Zc, theta):\n",
    "    \"\"\"\n",
    "    Parameters\n",
    "        ----------\n",
    "        Zc: np.ndarray\n",
    "            This is an impedance tensor measured in the Cardinal (NED) frame.\n",
    "        theta: float\n",
    "            This is the angle, in radians, by which we rotate.  TODO: add intuitive statement here.\n",
    "            \n",
    "    Returns tensor that would have been observed if the sensors had been rotated through negative theta.\n",
    "\n",
    "    R (Rotation Matrix) maps E, H vectors in the field-acquisition coordinate frame to NED.\n",
    "    \"\"\"\n",
    "    return rotate_field_to_cardinal(Zc, -theta)\n",
    "    "
   ]
  },
  {
   "cell_type": "code",
   "execution_count": 20,
   "id": "40fa0915-5f1d-4854-8498-3ea2d4e1383c",
   "metadata": {},
   "outputs": [
    {
     "data": {
      "text/plain": [
       "array([[0.3+0.j, 2. +1.j],\n",
       "       [3. +0.j, 4. +0.j]])"
      ]
     },
     "execution_count": 20,
     "metadata": {},
     "output_type": "execute_result"
    }
   ],
   "source": [
    "Zc"
   ]
  },
  {
   "cell_type": "code",
   "execution_count": 21,
   "id": "4329cf5b-12d4-47a5-b6fd-a508ba1bf208",
   "metadata": {},
   "outputs": [],
   "source": [
    "theta_deg = 30.\n",
    "theta = np.deg2rad(theta_deg)"
   ]
  },
  {
   "cell_type": "code",
   "execution_count": 22,
   "id": "ce26cdd1-00ec-44af-b592-460276d21b17",
   "metadata": {},
   "outputs": [
    {
     "name": "stdout",
     "output_type": "stream",
     "text": [
      "if the sensors had been deployed -30.0 degrees, we would measure:\n"
     ]
    },
    {
     "data": {
      "text/plain": [
       "array([[3.39006351+0.4330127j, 2.352147  +0.75j     ],\n",
       "       [3.352147  -0.25j     , 0.90993649-0.4330127j]])"
      ]
     },
     "execution_count": 22,
     "metadata": {},
     "output_type": "execute_result"
    }
   ],
   "source": [
    "Zf = rotate_cardinal_to_field(Zc, theta)\n",
    "print(f\"if the sensors had been deployed {-theta_deg} degrees, we would measure:\")\n",
    "Zf"
   ]
  },
  {
   "cell_type": "code",
   "execution_count": 23,
   "id": "455702c6-3095-4d90-a163-625d21bc6802",
   "metadata": {},
   "outputs": [
    {
     "name": "stdout",
     "output_type": "stream",
     "text": [
      " To correct for that, we would rotate the field-coordinate tensor by 30.0\n"
     ]
    },
    {
     "data": {
      "text/plain": [
       "array([[0.3-7.43708407e-18j, 2. +1.00000000e+00j],\n",
       "       [3. -4.13026482e-18j, 4. -7.72033963e-18j]])"
      ]
     },
     "execution_count": 23,
     "metadata": {},
     "output_type": "execute_result"
    }
   ],
   "source": [
    "print(f\" To correct for that, we would rotate the field-coordinate tensor by {theta_deg}\")\n",
    "back_to_zc = rotate_field_to_cardinal(Zf, theta)\n",
    "back_to_zc"
   ]
  },
  {
   "cell_type": "code",
   "execution_count": 24,
   "id": "9702c118-ce89-49d5-ab07-cfa042df0f2a",
   "metadata": {},
   "outputs": [],
   "source": [
    "# So if we have Zc, "
   ]
  },
  {
   "cell_type": "code",
   "execution_count": 25,
   "id": "f291c994-f1d5-4c98-a1db-9740b2477812",
   "metadata": {},
   "outputs": [],
   "source": [
    "def seek_strike_angle_in_1_deg_increments(Zc):\n",
    "    \"\"\"\n",
    "    \n",
    "    This function rotates the impedance tensor through positive angles theta from 0 to 360 degrees\n",
    "    and computes the magnitude of the trace at each rotation.\n",
    "    \n",
    "    Recall that:\n",
    "    - $Z_c = RZR^T$  Where R maps E, H vectors in the field-acquisition coordinate frame to NED.\n",
    "    - $Z = R^TZ_c R$\n",
    "    \n",
    "    If the input tensor is Cardinally oriented\n",
    "    \n",
    "    Zc: np.ndarray\n",
    "        This is a 2x2 impedance tensor in Cardinal coordinate frame\n",
    "    \"\"\"\n",
    "    square_diag = np.zeros(360)\n",
    "    for i in range(360):\n",
    "        Z_field = rotate_cardinal_to_field(Zc, np.deg2rad(i))\n",
    "        square_diag[i] = np.linalg.norm(np.diag(Z_field))\n",
    "\n",
    "    return square_diag\n",
    "    "
   ]
  },
  {
   "cell_type": "code",
   "execution_count": 26,
   "id": "0e95ebd2-0e11-4163-a4ad-f0b5d55da6b3",
   "metadata": {},
   "outputs": [],
   "source": [
    "initial_square_diag = seek_strike_angle_in_1_deg_increments(Zc)"
   ]
  },
  {
   "cell_type": "code",
   "execution_count": 27,
   "id": "c0aa5fdc-1869-483f-8b39-70fec31f4817",
   "metadata": {},
   "outputs": [
    {
     "name": "stdout",
     "output_type": "stream",
     "text": [
      "3.072164962045454\n",
      "3.069075988645593\n",
      "3.073719228921057\n"
     ]
    }
   ],
   "source": [
    "i = 17\n",
    "print(initial_square_diag[i])\n",
    "print(initial_square_diag[i+1])\n",
    "print(initial_square_diag[i+2])"
   ]
  },
  {
   "cell_type": "code",
   "execution_count": 43,
   "id": "e9487311-6cc9-4bd0-ac3e-09a0e700f0d9",
   "metadata": {},
   "outputs": [
    {
     "data": {
      "image/png": "[encoded data removed]",
      "text/plain": [
       "<Figure size 640x480 with 1 Axes>"
      ]
     },
     "metadata": {},
     "output_type": "display_data"
    }
   ],
   "source": [
    "plt.plot(np.arange(360), initial_square_diag, label=\"INIT\")\n",
    "plt.xlabel(\"Rotation (degrees)\")\n",
    "plt.ylabel(\"Trace magntude\")\n",
    "plt.title(\"Magnitude of the rotated Z trace as a function of Rotation Angle\")\n",
    "plt.legend()\n",
    "plt.grid(which=\"both\")\n",
    "plt.xticks(np.arange(0, 360, 18))\n",
    "plt.xlim(0, 180)\n",
    "plt.show()"
   ]
  },
  {
   "cell_type": "markdown",
   "id": "1a5d11cf-c885-4d19-97b2-f610a195b71a",
   "metadata": {},
   "source": [
    "# Interpretation\n",
    "\n",
    "- The x-axis values theta, correspond to \"correcting for a field-deployment rotation of $\\theta$\" \n",
    "- Thus, when we see a minima above at around 18 degrees, because we used `rotate_cardinal_to_field`, the tensor at angle $\\theta$ is what would have been observed if the sensors had been rotated through negative $\\theta$.\n",
    "- If the system were rotated by -18 degrees in the field it would correspond to the first minima.\n",
    "- Note the 90 degree ambiguity in strike angle (there are 4 minima, not 2:/)"
   ]
  },
  {
   "cell_type": "markdown",
   "id": "be48fe25-c904-43ea-aeb1-0149f9eb9e68",
   "metadata": {},
   "source": [
    "- Say that we found out that our coordinate system was incorrect.\n",
    "\n",
    "- In fact we need to rotate our sensors by an additional +13 degrees (X-toward-Y, North-toward-East)\n",
    "\n",
    "- Then we can correct the impedance tensor, by effectively rotating our sensors by 13\n",
    "\n",
    "\n"
   ]
  },
  {
   "cell_type": "code",
   "execution_count": 44,
   "id": "7a266ae9-8e17-48c9-bbde-97ca7525e51c",
   "metadata": {},
   "outputs": [
    {
     "data": {
      "text/plain": [
       "array([[-0.60869685-0.21918557j,  0.93599849+0.94939702j],\n",
       "       [ 1.93599849-0.05060298j,  4.90869685+0.21918557j]])"
      ]
     },
     "execution_count": 44,
     "metadata": {},
     "output_type": "execute_result"
    }
   ],
   "source": [
    "repair_angle_deg = 13\n",
    "repair_angle_rad = np.deg2rad(repair_angle_deg)\n",
    "R_fix_csys = rotation_matrix(repair_angle_rad)\n",
    "Zc_fixed =  R_fix_csys @ Zc @ R_fix_csys.T\n",
    "Zc_fixed"
   ]
  },
  {
   "cell_type": "code",
   "execution_count": 45,
   "id": "7ee5c815-be36-459c-86ad-ce6b93141413",
   "metadata": {},
   "outputs": [],
   "source": [
    "assert (Zc_fixed == rotate_field_to_cardinal(Zc, repair_angle_rad)).all()"
   ]
  },
  {
   "cell_type": "code",
   "execution_count": 46,
   "id": "7cf771e1-82b8-4ba6-991f-5b4db9ad6c6f",
   "metadata": {},
   "outputs": [],
   "source": [
    "square_diag_fixed = seek_strike_angle_in_1_deg_increments(Zc_fixed)"
   ]
  },
  {
   "cell_type": "code",
   "execution_count": 47,
   "id": "752943e1-d8a9-4717-9930-d1baddec6c58",
   "metadata": {},
   "outputs": [
    {
     "data": {
      "text/plain": [
       "<matplotlib.legend.Legend at 0x272a6733d90>"
      ]
     },
     "execution_count": 47,
     "metadata": {},
     "output_type": "execute_result"
    },
    {
     "data": {
      "image/png": "[encoded data removed]",
      "text/plain": [
       "<Figure size 640x480 with 1 Axes>"
      ]
     },
     "metadata": {},
     "output_type": "display_data"
    }
   ],
   "source": [
    "plt.plot(initial_square_diag, label=\"Initial\")\n",
    "plt.plot(square_diag_fixed, label=f\"{repair_angle_deg} deg\")\n",
    "plt.legend()"
   ]
  },
  {
   "cell_type": "code",
   "execution_count": 33,
   "id": "0974be05-bbff-4fb8-a85c-53a9c7a836b9",
   "metadata": {},
   "outputs": [],
   "source": [
    "# x1, x2: S1 S2\n",
    "# x3, x4: D1 D2\n",
    "# def simpson_strike(Z, alpha):\n",
    "#     S1 = Z[0,0] + Z[1, 1]\n",
    "#     S2 = Z[0,1] + Z[1, 0]\n",
    "#     D1 = Z[0,0] - Z[1, 1]\n",
    "#     S2 = Z[0,1] - Z[1, 0]\n",
    "#     S2_prime = (S2 * np.cos(alpha)**2) - (D1 * np.sin(alpha)**2)\n",
    "#     D1_prime = (D1* np.cos(alpha)**2) + (S2 * np.sin(alpha)**2)\n",
    "    \n",
    "#     numerator = 2*np.real()\n",
    "#     fouralpha = np.arctan2()"
   ]
  },
  {
   "cell_type": "markdown",
   "id": "fcde5018",
   "metadata": {},
   "source": [
    "# MTpy-v2 Example\n",
    "\n"
   ]
  }
 ],
 "metadata": {
  "kernelspec": {
   "display_name": "py39",
   "language": "python",
   "name": "python3"
  },
  "language_info": {
   "codemirror_mode": {
    "name": "ipython",
    "version": 3
   },
   "file_extension": ".py",
   "mimetype": "text/x-python",
   "name": "python",
   "nbconvert_exporter": "python",
   "pygments_lexer": "ipython3",
   "version": "3.9.18"
  }
 },
 "nbformat": 4,
 "nbformat_minor": 5
}
